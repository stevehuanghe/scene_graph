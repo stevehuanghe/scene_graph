{
 "cells": [
  {
   "cell_type": "code",
   "execution_count": 12,
   "metadata": {},
   "outputs": [],
   "source": [
    "import mmdet\n",
    "from mmdet.ops.dcn import DeformRoIPoolingPack\n",
    "import torch\n",
    "\n",
    "device=\"cuda\"\n",
    "\n",
    "net = DeformRoIPoolingPack(1, 5, 1, False).to(device)\n",
    "\n",
    "data = torch.rand(1,1,10,10).to(device)\n",
    "rois = torch.tensor([[0, 0, 0, 9, 9],  # format is (xyxy)\n",
    "                     [0, 0, 5, 4, 9],\n",
    "                     [0, 5, 5, 9, 9]]).to(device).float()\n"
   ]
  },
  {
   "cell_type": "code",
   "execution_count": 13,
   "metadata": {},
   "outputs": [],
   "source": [
    "res = net(data, rois)"
   ]
  },
  {
   "cell_type": "code",
   "execution_count": 14,
   "metadata": {},
   "outputs": [
    {
     "data": {
      "text/plain": [
       "torch.Size([3, 1, 5, 5])"
      ]
     },
     "execution_count": 14,
     "metadata": {},
     "output_type": "execute_result"
    }
   ],
   "source": [
    "res.shape"
   ]
  },
  {
   "cell_type": "code",
   "execution_count": null,
   "metadata": {},
   "outputs": [],
   "source": []
  }
 ],
 "metadata": {
  "kernelspec": {
   "display_name": "Python 3",
   "language": "python",
   "name": "python3"
  },
  "language_info": {
   "codemirror_mode": {
    "name": "ipython",
    "version": 3
   },
   "file_extension": ".py",
   "mimetype": "text/x-python",
   "name": "python",
   "nbconvert_exporter": "python",
   "pygments_lexer": "ipython3",
   "version": "3.7.3"
  }
 },
 "nbformat": 4,
 "nbformat_minor": 2
}
